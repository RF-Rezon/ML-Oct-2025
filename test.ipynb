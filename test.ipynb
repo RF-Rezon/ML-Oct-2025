{
 "cells": [
  {
   "cell_type": "code",
   "execution_count": 1,
   "id": "f438a82c",
   "metadata": {},
   "outputs": [
    {
     "name": "stdout",
     "output_type": "stream",
     "text": [
      "Hello Rezon! Welcome to Machine Learning!\n"
     ]
    }
   ],
   "source": [
    "print(\"Hello Rezon! Welcome to Machine Learning!\")"
   ]
  },
  {
   "cell_type": "code",
   "execution_count": 8,
   "id": "6472c7ce",
   "metadata": {},
   "outputs": [
    {
     "name": "stdout",
     "output_type": "stream",
     "text": [
      "6\n"
     ]
    }
   ],
   "source": [
    "x = input(\"Put first number: \")\n",
    "y = input(\"Put second number: \")\n",
    "\n",
    "z = int(x[:-1]) + int(y[:-1])\n",
    "\n",
    "print(z)"
   ]
  },
  {
   "cell_type": "code",
   "execution_count": null,
   "id": "23d96fdc",
   "metadata": {},
   "outputs": [
    {
     "name": "stdout",
     "output_type": "stream",
     "text": [
      "3\n"
     ]
    }
   ],
   "source": [
    "print(7 // 2)"
   ]
  }
 ],
 "metadata": {
  "kernelspec": {
   "display_name": "Python 3",
   "language": "python",
   "name": "python3"
  },
  "language_info": {
   "codemirror_mode": {
    "name": "ipython",
    "version": 3
   },
   "file_extension": ".py",
   "mimetype": "text/x-python",
   "name": "python",
   "nbconvert_exporter": "python",
   "pygments_lexer": "ipython3",
   "version": "3.13.5"
  }
 },
 "nbformat": 4,
 "nbformat_minor": 5
}
